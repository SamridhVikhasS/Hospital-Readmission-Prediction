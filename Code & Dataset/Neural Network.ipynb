{
 "cells": [
  {
   "cell_type": "markdown",
   "id": "5d69bc27-0d54-4838-af02-2c8e1f8ec4ce",
   "metadata": {
    "tags": []
   },
   "source": [
    "## Importing Required Libraries"
   ]
  },
  {
   "cell_type": "code",
   "execution_count": 1,
   "id": "6311b678-e182-424d-b095-133c8ed2c09a",
   "metadata": {
    "tags": []
   },
   "outputs": [],
   "source": [
    "import numpy as np\n",
    "import pandas as pd\n",
    "import warnings\n",
    "warnings.filterwarnings(\"ignore\")"
   ]
  },
  {
   "cell_type": "markdown",
   "id": "6c2787fa-2deb-4df0-97f7-947fa5523793",
   "metadata": {},
   "source": [
    "## Importing Dataset"
   ]
  },
  {
   "cell_type": "code",
   "execution_count": 47,
   "id": "140c598a-1c70-4f59-af65-5a01cbe4fd24",
   "metadata": {
    "tags": []
   },
   "outputs": [
    {
     "data": {
      "text/html": [
       "<div>\n",
       "<style scoped>\n",
       "    .dataframe tbody tr th:only-of-type {\n",
       "        vertical-align: middle;\n",
       "    }\n",
       "\n",
       "    .dataframe tbody tr th {\n",
       "        vertical-align: top;\n",
       "    }\n",
       "\n",
       "    .dataframe thead th {\n",
       "        text-align: right;\n",
       "    }\n",
       "</style>\n",
       "<table border=\"1\" class=\"dataframe\">\n",
       "  <thead>\n",
       "    <tr style=\"text-align: right;\">\n",
       "      <th></th>\n",
       "      <th>encounter_id</th>\n",
       "      <th>patient_nbr</th>\n",
       "      <th>race</th>\n",
       "      <th>gender</th>\n",
       "      <th>age</th>\n",
       "      <th>admission_type_id</th>\n",
       "      <th>discharge_disposition_id</th>\n",
       "      <th>admission_source_id</th>\n",
       "      <th>time_in_hospital</th>\n",
       "      <th>num_lab_procedures</th>\n",
       "      <th>...</th>\n",
       "      <th>citoglipton</th>\n",
       "      <th>insulin</th>\n",
       "      <th>glyburide-metformin</th>\n",
       "      <th>glipizide-metformin</th>\n",
       "      <th>glimepiride-pioglitazone</th>\n",
       "      <th>metformin-rosiglitazone</th>\n",
       "      <th>metformin-pioglitazone</th>\n",
       "      <th>change</th>\n",
       "      <th>diabetesMed</th>\n",
       "      <th>readmitted</th>\n",
       "    </tr>\n",
       "  </thead>\n",
       "  <tbody>\n",
       "    <tr>\n",
       "      <th>0</th>\n",
       "      <td>2278392</td>\n",
       "      <td>8222157</td>\n",
       "      <td>2</td>\n",
       "      <td>0</td>\n",
       "      <td>0</td>\n",
       "      <td>6</td>\n",
       "      <td>25</td>\n",
       "      <td>1</td>\n",
       "      <td>1</td>\n",
       "      <td>41</td>\n",
       "      <td>...</td>\n",
       "      <td>0</td>\n",
       "      <td>1</td>\n",
       "      <td>1</td>\n",
       "      <td>0</td>\n",
       "      <td>0</td>\n",
       "      <td>0</td>\n",
       "      <td>0</td>\n",
       "      <td>1</td>\n",
       "      <td>0</td>\n",
       "      <td>2</td>\n",
       "    </tr>\n",
       "    <tr>\n",
       "      <th>1</th>\n",
       "      <td>149190</td>\n",
       "      <td>55629189</td>\n",
       "      <td>2</td>\n",
       "      <td>0</td>\n",
       "      <td>1</td>\n",
       "      <td>1</td>\n",
       "      <td>1</td>\n",
       "      <td>7</td>\n",
       "      <td>3</td>\n",
       "      <td>59</td>\n",
       "      <td>...</td>\n",
       "      <td>0</td>\n",
       "      <td>3</td>\n",
       "      <td>1</td>\n",
       "      <td>0</td>\n",
       "      <td>0</td>\n",
       "      <td>0</td>\n",
       "      <td>0</td>\n",
       "      <td>0</td>\n",
       "      <td>1</td>\n",
       "      <td>1</td>\n",
       "    </tr>\n",
       "    <tr>\n",
       "      <th>2</th>\n",
       "      <td>64410</td>\n",
       "      <td>86047875</td>\n",
       "      <td>0</td>\n",
       "      <td>0</td>\n",
       "      <td>2</td>\n",
       "      <td>1</td>\n",
       "      <td>1</td>\n",
       "      <td>7</td>\n",
       "      <td>2</td>\n",
       "      <td>11</td>\n",
       "      <td>...</td>\n",
       "      <td>0</td>\n",
       "      <td>1</td>\n",
       "      <td>1</td>\n",
       "      <td>0</td>\n",
       "      <td>0</td>\n",
       "      <td>0</td>\n",
       "      <td>0</td>\n",
       "      <td>1</td>\n",
       "      <td>1</td>\n",
       "      <td>2</td>\n",
       "    </tr>\n",
       "    <tr>\n",
       "      <th>3</th>\n",
       "      <td>500364</td>\n",
       "      <td>82442376</td>\n",
       "      <td>2</td>\n",
       "      <td>1</td>\n",
       "      <td>3</td>\n",
       "      <td>1</td>\n",
       "      <td>1</td>\n",
       "      <td>7</td>\n",
       "      <td>2</td>\n",
       "      <td>44</td>\n",
       "      <td>...</td>\n",
       "      <td>0</td>\n",
       "      <td>3</td>\n",
       "      <td>1</td>\n",
       "      <td>0</td>\n",
       "      <td>0</td>\n",
       "      <td>0</td>\n",
       "      <td>0</td>\n",
       "      <td>0</td>\n",
       "      <td>1</td>\n",
       "      <td>2</td>\n",
       "    </tr>\n",
       "    <tr>\n",
       "      <th>4</th>\n",
       "      <td>16680</td>\n",
       "      <td>42519267</td>\n",
       "      <td>2</td>\n",
       "      <td>1</td>\n",
       "      <td>4</td>\n",
       "      <td>1</td>\n",
       "      <td>1</td>\n",
       "      <td>7</td>\n",
       "      <td>1</td>\n",
       "      <td>51</td>\n",
       "      <td>...</td>\n",
       "      <td>0</td>\n",
       "      <td>2</td>\n",
       "      <td>1</td>\n",
       "      <td>0</td>\n",
       "      <td>0</td>\n",
       "      <td>0</td>\n",
       "      <td>0</td>\n",
       "      <td>0</td>\n",
       "      <td>1</td>\n",
       "      <td>2</td>\n",
       "    </tr>\n",
       "  </tbody>\n",
       "</table>\n",
       "<p>5 rows × 47 columns</p>\n",
       "</div>"
      ],
      "text/plain": [
       "   encounter_id  patient_nbr  race  gender  age  admission_type_id  \\\n",
       "0       2278392      8222157     2       0    0                  6   \n",
       "1        149190     55629189     2       0    1                  1   \n",
       "2         64410     86047875     0       0    2                  1   \n",
       "3        500364     82442376     2       1    3                  1   \n",
       "4         16680     42519267     2       1    4                  1   \n",
       "\n",
       "   discharge_disposition_id  admission_source_id  time_in_hospital  \\\n",
       "0                        25                    1                 1   \n",
       "1                         1                    7                 3   \n",
       "2                         1                    7                 2   \n",
       "3                         1                    7                 2   \n",
       "4                         1                    7                 1   \n",
       "\n",
       "   num_lab_procedures  ...  citoglipton  insulin  glyburide-metformin  \\\n",
       "0                  41  ...            0        1                    1   \n",
       "1                  59  ...            0        3                    1   \n",
       "2                  11  ...            0        1                    1   \n",
       "3                  44  ...            0        3                    1   \n",
       "4                  51  ...            0        2                    1   \n",
       "\n",
       "   glipizide-metformin  glimepiride-pioglitazone  metformin-rosiglitazone  \\\n",
       "0                    0                         0                        0   \n",
       "1                    0                         0                        0   \n",
       "2                    0                         0                        0   \n",
       "3                    0                         0                        0   \n",
       "4                    0                         0                        0   \n",
       "\n",
       "   metformin-pioglitazone  change  diabetesMed  readmitted  \n",
       "0                       0       1            0           2  \n",
       "1                       0       0            1           1  \n",
       "2                       0       1            1           2  \n",
       "3                       0       0            1           2  \n",
       "4                       0       0            1           2  \n",
       "\n",
       "[5 rows x 47 columns]"
      ]
     },
     "execution_count": 47,
     "metadata": {},
     "output_type": "execute_result"
    }
   ],
   "source": [
    "df = pd.read_csv(\"Clean-Model-Data.csv\")\n",
    "df.head()"
   ]
  },
  {
   "cell_type": "code",
   "execution_count": 48,
   "id": "cd109cef-c7b1-4873-9b30-4077fde22164",
   "metadata": {
    "tags": []
   },
   "outputs": [
    {
     "data": {
      "text/html": [
       "<div>\n",
       "<style scoped>\n",
       "    .dataframe tbody tr th:only-of-type {\n",
       "        vertical-align: middle;\n",
       "    }\n",
       "\n",
       "    .dataframe tbody tr th {\n",
       "        vertical-align: top;\n",
       "    }\n",
       "\n",
       "    .dataframe thead th {\n",
       "        text-align: right;\n",
       "    }\n",
       "</style>\n",
       "<table border=\"1\" class=\"dataframe\">\n",
       "  <thead>\n",
       "    <tr style=\"text-align: right;\">\n",
       "      <th></th>\n",
       "      <th>race</th>\n",
       "      <th>gender</th>\n",
       "      <th>age</th>\n",
       "      <th>admission_type_id</th>\n",
       "      <th>discharge_disposition_id</th>\n",
       "      <th>admission_source_id</th>\n",
       "      <th>time_in_hospital</th>\n",
       "      <th>num_lab_procedures</th>\n",
       "      <th>num_procedures</th>\n",
       "      <th>num_medications</th>\n",
       "      <th>...</th>\n",
       "      <th>citoglipton</th>\n",
       "      <th>insulin</th>\n",
       "      <th>glyburide-metformin</th>\n",
       "      <th>glipizide-metformin</th>\n",
       "      <th>glimepiride-pioglitazone</th>\n",
       "      <th>metformin-rosiglitazone</th>\n",
       "      <th>metformin-pioglitazone</th>\n",
       "      <th>change</th>\n",
       "      <th>diabetesMed</th>\n",
       "      <th>readmitted</th>\n",
       "    </tr>\n",
       "  </thead>\n",
       "  <tbody>\n",
       "    <tr>\n",
       "      <th>0</th>\n",
       "      <td>2</td>\n",
       "      <td>0</td>\n",
       "      <td>0</td>\n",
       "      <td>6</td>\n",
       "      <td>25</td>\n",
       "      <td>1</td>\n",
       "      <td>1</td>\n",
       "      <td>41</td>\n",
       "      <td>0</td>\n",
       "      <td>1</td>\n",
       "      <td>...</td>\n",
       "      <td>0</td>\n",
       "      <td>1</td>\n",
       "      <td>1</td>\n",
       "      <td>0</td>\n",
       "      <td>0</td>\n",
       "      <td>0</td>\n",
       "      <td>0</td>\n",
       "      <td>1</td>\n",
       "      <td>0</td>\n",
       "      <td>2</td>\n",
       "    </tr>\n",
       "    <tr>\n",
       "      <th>1</th>\n",
       "      <td>2</td>\n",
       "      <td>0</td>\n",
       "      <td>1</td>\n",
       "      <td>1</td>\n",
       "      <td>1</td>\n",
       "      <td>7</td>\n",
       "      <td>3</td>\n",
       "      <td>59</td>\n",
       "      <td>0</td>\n",
       "      <td>18</td>\n",
       "      <td>...</td>\n",
       "      <td>0</td>\n",
       "      <td>3</td>\n",
       "      <td>1</td>\n",
       "      <td>0</td>\n",
       "      <td>0</td>\n",
       "      <td>0</td>\n",
       "      <td>0</td>\n",
       "      <td>0</td>\n",
       "      <td>1</td>\n",
       "      <td>1</td>\n",
       "    </tr>\n",
       "    <tr>\n",
       "      <th>2</th>\n",
       "      <td>0</td>\n",
       "      <td>0</td>\n",
       "      <td>2</td>\n",
       "      <td>1</td>\n",
       "      <td>1</td>\n",
       "      <td>7</td>\n",
       "      <td>2</td>\n",
       "      <td>11</td>\n",
       "      <td>5</td>\n",
       "      <td>13</td>\n",
       "      <td>...</td>\n",
       "      <td>0</td>\n",
       "      <td>1</td>\n",
       "      <td>1</td>\n",
       "      <td>0</td>\n",
       "      <td>0</td>\n",
       "      <td>0</td>\n",
       "      <td>0</td>\n",
       "      <td>1</td>\n",
       "      <td>1</td>\n",
       "      <td>2</td>\n",
       "    </tr>\n",
       "    <tr>\n",
       "      <th>3</th>\n",
       "      <td>2</td>\n",
       "      <td>1</td>\n",
       "      <td>3</td>\n",
       "      <td>1</td>\n",
       "      <td>1</td>\n",
       "      <td>7</td>\n",
       "      <td>2</td>\n",
       "      <td>44</td>\n",
       "      <td>1</td>\n",
       "      <td>16</td>\n",
       "      <td>...</td>\n",
       "      <td>0</td>\n",
       "      <td>3</td>\n",
       "      <td>1</td>\n",
       "      <td>0</td>\n",
       "      <td>0</td>\n",
       "      <td>0</td>\n",
       "      <td>0</td>\n",
       "      <td>0</td>\n",
       "      <td>1</td>\n",
       "      <td>2</td>\n",
       "    </tr>\n",
       "    <tr>\n",
       "      <th>4</th>\n",
       "      <td>2</td>\n",
       "      <td>1</td>\n",
       "      <td>4</td>\n",
       "      <td>1</td>\n",
       "      <td>1</td>\n",
       "      <td>7</td>\n",
       "      <td>1</td>\n",
       "      <td>51</td>\n",
       "      <td>0</td>\n",
       "      <td>8</td>\n",
       "      <td>...</td>\n",
       "      <td>0</td>\n",
       "      <td>2</td>\n",
       "      <td>1</td>\n",
       "      <td>0</td>\n",
       "      <td>0</td>\n",
       "      <td>0</td>\n",
       "      <td>0</td>\n",
       "      <td>0</td>\n",
       "      <td>1</td>\n",
       "      <td>2</td>\n",
       "    </tr>\n",
       "    <tr>\n",
       "      <th>...</th>\n",
       "      <td>...</td>\n",
       "      <td>...</td>\n",
       "      <td>...</td>\n",
       "      <td>...</td>\n",
       "      <td>...</td>\n",
       "      <td>...</td>\n",
       "      <td>...</td>\n",
       "      <td>...</td>\n",
       "      <td>...</td>\n",
       "      <td>...</td>\n",
       "      <td>...</td>\n",
       "      <td>...</td>\n",
       "      <td>...</td>\n",
       "      <td>...</td>\n",
       "      <td>...</td>\n",
       "      <td>...</td>\n",
       "      <td>...</td>\n",
       "      <td>...</td>\n",
       "      <td>...</td>\n",
       "      <td>...</td>\n",
       "      <td>...</td>\n",
       "    </tr>\n",
       "    <tr>\n",
       "      <th>101761</th>\n",
       "      <td>0</td>\n",
       "      <td>1</td>\n",
       "      <td>7</td>\n",
       "      <td>1</td>\n",
       "      <td>3</td>\n",
       "      <td>7</td>\n",
       "      <td>3</td>\n",
       "      <td>51</td>\n",
       "      <td>0</td>\n",
       "      <td>16</td>\n",
       "      <td>...</td>\n",
       "      <td>0</td>\n",
       "      <td>0</td>\n",
       "      <td>1</td>\n",
       "      <td>0</td>\n",
       "      <td>0</td>\n",
       "      <td>0</td>\n",
       "      <td>0</td>\n",
       "      <td>0</td>\n",
       "      <td>1</td>\n",
       "      <td>1</td>\n",
       "    </tr>\n",
       "    <tr>\n",
       "      <th>101762</th>\n",
       "      <td>0</td>\n",
       "      <td>0</td>\n",
       "      <td>8</td>\n",
       "      <td>1</td>\n",
       "      <td>4</td>\n",
       "      <td>5</td>\n",
       "      <td>5</td>\n",
       "      <td>33</td>\n",
       "      <td>3</td>\n",
       "      <td>18</td>\n",
       "      <td>...</td>\n",
       "      <td>0</td>\n",
       "      <td>2</td>\n",
       "      <td>1</td>\n",
       "      <td>0</td>\n",
       "      <td>0</td>\n",
       "      <td>0</td>\n",
       "      <td>0</td>\n",
       "      <td>1</td>\n",
       "      <td>1</td>\n",
       "      <td>2</td>\n",
       "    </tr>\n",
       "    <tr>\n",
       "      <th>101763</th>\n",
       "      <td>2</td>\n",
       "      <td>1</td>\n",
       "      <td>7</td>\n",
       "      <td>1</td>\n",
       "      <td>1</td>\n",
       "      <td>7</td>\n",
       "      <td>1</td>\n",
       "      <td>53</td>\n",
       "      <td>0</td>\n",
       "      <td>9</td>\n",
       "      <td>...</td>\n",
       "      <td>0</td>\n",
       "      <td>0</td>\n",
       "      <td>1</td>\n",
       "      <td>0</td>\n",
       "      <td>0</td>\n",
       "      <td>0</td>\n",
       "      <td>0</td>\n",
       "      <td>0</td>\n",
       "      <td>1</td>\n",
       "      <td>2</td>\n",
       "    </tr>\n",
       "    <tr>\n",
       "      <th>101764</th>\n",
       "      <td>2</td>\n",
       "      <td>0</td>\n",
       "      <td>8</td>\n",
       "      <td>2</td>\n",
       "      <td>3</td>\n",
       "      <td>7</td>\n",
       "      <td>10</td>\n",
       "      <td>45</td>\n",
       "      <td>2</td>\n",
       "      <td>21</td>\n",
       "      <td>...</td>\n",
       "      <td>0</td>\n",
       "      <td>3</td>\n",
       "      <td>1</td>\n",
       "      <td>0</td>\n",
       "      <td>0</td>\n",
       "      <td>0</td>\n",
       "      <td>0</td>\n",
       "      <td>0</td>\n",
       "      <td>1</td>\n",
       "      <td>2</td>\n",
       "    </tr>\n",
       "    <tr>\n",
       "      <th>101765</th>\n",
       "      <td>2</td>\n",
       "      <td>1</td>\n",
       "      <td>7</td>\n",
       "      <td>1</td>\n",
       "      <td>1</td>\n",
       "      <td>7</td>\n",
       "      <td>6</td>\n",
       "      <td>13</td>\n",
       "      <td>3</td>\n",
       "      <td>3</td>\n",
       "      <td>...</td>\n",
       "      <td>0</td>\n",
       "      <td>1</td>\n",
       "      <td>1</td>\n",
       "      <td>0</td>\n",
       "      <td>0</td>\n",
       "      <td>0</td>\n",
       "      <td>0</td>\n",
       "      <td>1</td>\n",
       "      <td>0</td>\n",
       "      <td>2</td>\n",
       "    </tr>\n",
       "  </tbody>\n",
       "</table>\n",
       "<p>101766 rows × 45 columns</p>\n",
       "</div>"
      ],
      "text/plain": [
       "        race  gender  age  admission_type_id  discharge_disposition_id  \\\n",
       "0          2       0    0                  6                        25   \n",
       "1          2       0    1                  1                         1   \n",
       "2          0       0    2                  1                         1   \n",
       "3          2       1    3                  1                         1   \n",
       "4          2       1    4                  1                         1   \n",
       "...      ...     ...  ...                ...                       ...   \n",
       "101761     0       1    7                  1                         3   \n",
       "101762     0       0    8                  1                         4   \n",
       "101763     2       1    7                  1                         1   \n",
       "101764     2       0    8                  2                         3   \n",
       "101765     2       1    7                  1                         1   \n",
       "\n",
       "        admission_source_id  time_in_hospital  num_lab_procedures  \\\n",
       "0                         1                 1                  41   \n",
       "1                         7                 3                  59   \n",
       "2                         7                 2                  11   \n",
       "3                         7                 2                  44   \n",
       "4                         7                 1                  51   \n",
       "...                     ...               ...                 ...   \n",
       "101761                    7                 3                  51   \n",
       "101762                    5                 5                  33   \n",
       "101763                    7                 1                  53   \n",
       "101764                    7                10                  45   \n",
       "101765                    7                 6                  13   \n",
       "\n",
       "        num_procedures  num_medications  ...  citoglipton  insulin  \\\n",
       "0                    0                1  ...            0        1   \n",
       "1                    0               18  ...            0        3   \n",
       "2                    5               13  ...            0        1   \n",
       "3                    1               16  ...            0        3   \n",
       "4                    0                8  ...            0        2   \n",
       "...                ...              ...  ...          ...      ...   \n",
       "101761               0               16  ...            0        0   \n",
       "101762               3               18  ...            0        2   \n",
       "101763               0                9  ...            0        0   \n",
       "101764               2               21  ...            0        3   \n",
       "101765               3                3  ...            0        1   \n",
       "\n",
       "        glyburide-metformin  glipizide-metformin  glimepiride-pioglitazone  \\\n",
       "0                         1                    0                         0   \n",
       "1                         1                    0                         0   \n",
       "2                         1                    0                         0   \n",
       "3                         1                    0                         0   \n",
       "4                         1                    0                         0   \n",
       "...                     ...                  ...                       ...   \n",
       "101761                    1                    0                         0   \n",
       "101762                    1                    0                         0   \n",
       "101763                    1                    0                         0   \n",
       "101764                    1                    0                         0   \n",
       "101765                    1                    0                         0   \n",
       "\n",
       "        metformin-rosiglitazone  metformin-pioglitazone  change  diabetesMed  \\\n",
       "0                             0                       0       1            0   \n",
       "1                             0                       0       0            1   \n",
       "2                             0                       0       1            1   \n",
       "3                             0                       0       0            1   \n",
       "4                             0                       0       0            1   \n",
       "...                         ...                     ...     ...          ...   \n",
       "101761                        0                       0       0            1   \n",
       "101762                        0                       0       1            1   \n",
       "101763                        0                       0       0            1   \n",
       "101764                        0                       0       0            1   \n",
       "101765                        0                       0       1            0   \n",
       "\n",
       "        readmitted  \n",
       "0                2  \n",
       "1                1  \n",
       "2                2  \n",
       "3                2  \n",
       "4                2  \n",
       "...            ...  \n",
       "101761           1  \n",
       "101762           2  \n",
       "101763           2  \n",
       "101764           2  \n",
       "101765           2  \n",
       "\n",
       "[101766 rows x 45 columns]"
      ]
     },
     "execution_count": 48,
     "metadata": {},
     "output_type": "execute_result"
    }
   ],
   "source": [
    "data = df[['race', 'gender', 'age', 'admission_type_id', 'discharge_disposition_id', 'admission_source_id',\n",
    "       'time_in_hospital', 'num_lab_procedures', 'num_procedures',\n",
    "       'num_medications', 'number_outpatient', 'number_emergency',\n",
    "       'number_inpatient', 'diag_1', 'diag_2', 'diag_3', 'number_diagnoses',\n",
    "       'max_glu_serum', 'A1Cresult', 'metformin', 'repaglinide', 'nateglinide',\n",
    "       'chlorpropamide', 'glimepiride', 'acetohexamide', 'glipizide',\n",
    "       'glyburide', 'tolbutamide', 'pioglitazone', 'rosiglitazone', 'acarbose',\n",
    "       'miglitol', 'troglitazone', 'tolazamide', 'examide', 'citoglipton',\n",
    "       'insulin', 'glyburide-metformin', 'glipizide-metformin',\n",
    "       'glimepiride-pioglitazone', 'metformin-rosiglitazone',\n",
    "       'metformin-pioglitazone', 'change', 'diabetesMed','readmitted']]\n",
    "data"
   ]
  },
  {
   "cell_type": "code",
   "execution_count": 4,
   "id": "44c2c8ff-6885-4980-af1b-2f31f47eed1f",
   "metadata": {
    "tags": []
   },
   "outputs": [
    {
     "data": {
      "text/plain": [
       "(101766, 45)"
      ]
     },
     "execution_count": 4,
     "metadata": {},
     "output_type": "execute_result"
    }
   ],
   "source": [
    "m,n = data.shape\n",
    "(m,n)"
   ]
  },
  {
   "cell_type": "code",
   "execution_count": 49,
   "id": "e753581c-9203-4470-a5e0-7a8dee24fdd6",
   "metadata": {
    "tags": []
   },
   "outputs": [
    {
     "data": {
      "text/plain": [
       "(101766, 44)"
      ]
     },
     "execution_count": 49,
     "metadata": {},
     "output_type": "execute_result"
    }
   ],
   "source": [
    "x = data[['race', 'gender', 'age', 'admission_type_id', \n",
    "                       'discharge_disposition_id', 'admission_source_id',\n",
    "                       'time_in_hospital', 'num_lab_procedures', 'num_procedures',\n",
    "                       'num_medications', 'number_outpatient', 'number_emergency',\n",
    "                       'number_inpatient', 'diag_1', 'diag_2', 'diag_3', 'number_diagnoses',\n",
    "                       'max_glu_serum', 'A1Cresult', 'metformin', 'repaglinide', 'nateglinide',\n",
    "                       'chlorpropamide', 'glimepiride', 'acetohexamide', 'glipizide',\n",
    "                       'glyburide', 'tolbutamide', 'pioglitazone', 'rosiglitazone', 'acarbose',\n",
    "                       'miglitol', 'troglitazone', 'tolazamide', 'examide', 'citoglipton',\n",
    "                       'insulin', 'glyburide-metformin', 'glipizide-metformin',\n",
    "                       'glimepiride-pioglitazone', 'metformin-rosiglitazone',\n",
    "                       'metformin-pioglitazone', 'change', 'diabetesMed']]\n",
    "x.shape"
   ]
  },
  {
   "cell_type": "code",
   "execution_count": 50,
   "id": "9390ef27-0f92-4fc7-ac18-bcd3feab16e5",
   "metadata": {
    "tags": []
   },
   "outputs": [
    {
     "data": {
      "text/plain": [
       "0         2\n",
       "1         1\n",
       "2         2\n",
       "3         2\n",
       "4         2\n",
       "         ..\n",
       "101761    1\n",
       "101762    2\n",
       "101763    2\n",
       "101764    2\n",
       "101765    2\n",
       "Name: readmitted, Length: 101766, dtype: int64"
      ]
     },
     "execution_count": 50,
     "metadata": {},
     "output_type": "execute_result"
    }
   ],
   "source": [
    "y = data['readmitted']\n",
    "y"
   ]
  },
  {
   "cell_type": "code",
   "execution_count": 7,
   "id": "c692b615-09b6-4692-848d-774d04e2ed33",
   "metadata": {
    "tags": []
   },
   "outputs": [
    {
     "data": {
      "text/plain": [
       "(101766, 1)"
      ]
     },
     "execution_count": 7,
     "metadata": {},
     "output_type": "execute_result"
    }
   ],
   "source": [
    "y.shape"
   ]
  },
  {
   "cell_type": "code",
   "execution_count": 8,
   "id": "cf16f3d0-5366-4575-99ac-93b845668c4c",
   "metadata": {
    "tags": []
   },
   "outputs": [],
   "source": [
    "x_train = x[:,:(int(0.75*x.shape[1]))]\n",
    "x_test = x[:,(int(0.75*x.shape[1])):]"
   ]
  },
  {
   "cell_type": "code",
   "execution_count": 9,
   "id": "b374c23e-5aa6-421e-a3a2-70c5659a65c1",
   "metadata": {
    "tags": []
   },
   "outputs": [
    {
     "data": {
      "text/plain": [
       "(44, 25442)"
      ]
     },
     "execution_count": 9,
     "metadata": {},
     "output_type": "execute_result"
    }
   ],
   "source": [
    "x_test.shape"
   ]
  },
  {
   "cell_type": "code",
   "execution_count": 10,
   "id": "699f90b6-7416-4824-9237-11ed280e80b6",
   "metadata": {
    "tags": []
   },
   "outputs": [],
   "source": [
    "y_train = y[:(int(0.75*y.shape[0])),:]\n",
    "y_test = y[(int(0.75*y.shape[0])):,:]"
   ]
  },
  {
   "cell_type": "code",
   "execution_count": 11,
   "id": "27b70a1a-f8a9-444c-95ba-77fbd94fe567",
   "metadata": {
    "tags": []
   },
   "outputs": [
    {
     "data": {
      "text/plain": [
       "(25442, 1)"
      ]
     },
     "execution_count": 11,
     "metadata": {},
     "output_type": "execute_result"
    }
   ],
   "source": [
    "y_test.shape"
   ]
  },
  {
   "cell_type": "markdown",
   "id": "2a5d89ce-2e2a-4bab-b223-b991ef9cdda1",
   "metadata": {
    "jp-MarkdownHeadingCollapsed": true,
    "tags": []
   },
   "source": [
    "#### Neural Network"
   ]
  },
  {
   "cell_type": "code",
   "execution_count": 85,
   "id": "9995ad4e-c504-4a00-8f96-43811ea4d575",
   "metadata": {
    "tags": []
   },
   "outputs": [],
   "source": [
    "def init_params():\n",
    "    w1 = np.random.rand(10,44)\n",
    "    b1 = np.random.rand(10,1)\n",
    "    w2 = np.random.rand(3,10)\n",
    "    b2 = np.random.rand(3,1)\n",
    "    return(w1,b1,w2,b2)"
   ]
  },
  {
   "cell_type": "code",
   "execution_count": 86,
   "id": "c5e5000d-c2bb-44fc-91c7-cbd01914b151",
   "metadata": {
    "tags": []
   },
   "outputs": [],
   "source": [
    "def sigmoid(Z):\n",
    "    return(1/(1+np.exp(-Z)))"
   ]
  },
  {
   "cell_type": "code",
   "execution_count": 87,
   "id": "5ea0e025-068b-4d17-b626-94465f9143b3",
   "metadata": {
    "tags": []
   },
   "outputs": [],
   "source": [
    "def tanh(x):\n",
    "    return ((2/(1+np.exp(-2*x)))-1)"
   ]
  },
  {
   "cell_type": "code",
   "execution_count": 88,
   "id": "96477c82-ff4a-45ea-881f-35a21ddf0901",
   "metadata": {
    "tags": []
   },
   "outputs": [],
   "source": [
    "def softmax(Z):\n",
    "    A = np.exp(Z) / sum(np.exp(Z))\n",
    "    return(A)"
   ]
  },
  {
   "cell_type": "code",
   "execution_count": 89,
   "id": "61fc0807-8378-4ae0-8675-e46d302dbaab",
   "metadata": {
    "tags": []
   },
   "outputs": [],
   "source": [
    "def sigmoid_der(Z):\n",
    "    return sigmoid(Z) *(1-sigmoid (Z))"
   ]
  },
  {
   "cell_type": "code",
   "execution_count": 90,
   "id": "19f7ebfe-208c-4c2c-aab7-347391ac2147",
   "metadata": {
    "tags": []
   },
   "outputs": [],
   "source": [
    "def tanh_der(x):\n",
    "    return (1-(tanh(x)**2))"
   ]
  },
  {
   "cell_type": "code",
   "execution_count": 91,
   "id": "cf08b87a-c016-4c35-afa9-d5e7d3dab1e8",
   "metadata": {
    "tags": []
   },
   "outputs": [],
   "source": [
    "def one_hot(y):\n",
    "    ohY = np.zeros((y.size,y.max()+1))\n",
    "    ohY[np.arange(y.size),y] = 1\n",
    "    ohY = ohY.T\n",
    "    return(ohY)"
   ]
  },
  {
   "cell_type": "code",
   "execution_count": 99,
   "id": "8ab25fea-95af-4a59-9047-9c52f4edcc9f",
   "metadata": {
    "tags": []
   },
   "outputs": [],
   "source": [
    "def forward_prop(w1,b1,w2,b2,x):\n",
    "    z1 = w1.dot(x)+b1\n",
    "    a1 = tanh(z1)\n",
    "    z2 = w2.dot(a1) + b2\n",
    "    a2 = softmax(z2)\n",
    "    return(z1,a1,z2,a2)"
   ]
  },
  {
   "cell_type": "code",
   "execution_count": 100,
   "id": "f5ff8e77-1b40-4c93-a7d8-e718f41fd0c7",
   "metadata": {
    "tags": []
   },
   "outputs": [],
   "source": [
    "def backward_prop(z1,a1,z2,a2,w1,w2,x,y):\n",
    "    ohy = one_hot(y)\n",
    "    dz2 = a2 - ohy\n",
    "    dw2 = 1/m * dz2.dot(a1.T)\n",
    "    db2 = 1/m * np.sum(dz2)\n",
    "    dz1 = w2.T.dot(dz2) * tanh_der(z1)\n",
    "    dw1 = 1/m * dz1.dot(x.T)\n",
    "    db1 = 1/m * np.sum(dz1)\n",
    "    return(dw1,db1,dw2,db2)"
   ]
  },
  {
   "cell_type": "code",
   "execution_count": 94,
   "id": "0079e905-1f83-4c95-aa73-74e3a6b17990",
   "metadata": {
    "tags": []
   },
   "outputs": [],
   "source": [
    "def update_params(w1,b1,w2,b2,dw1,db1,dw2,db2,alpha):\n",
    "    w1 = w1 - alpha*dw1\n",
    "    b1 = b1 - alpha*db1\n",
    "    w2 = w2 - alpha*dw2\n",
    "    b2 = b2 - alpha*db2\n",
    "    return(w1,b1,w2,b2)"
   ]
  },
  {
   "cell_type": "code",
   "execution_count": 95,
   "id": "e458ecdc-3c6c-423f-9247-6ab0856762dc",
   "metadata": {
    "tags": []
   },
   "outputs": [],
   "source": [
    "def get_preds(a2):\n",
    "    return(np.argmax(a2,0))"
   ]
  },
  {
   "cell_type": "code",
   "execution_count": 96,
   "id": "3379ebea-e478-4b13-a020-0199ed90f5be",
   "metadata": {
    "tags": []
   },
   "outputs": [],
   "source": [
    "def get_accuracy(preds,y):\n",
    "    c = 0\n",
    "    for i in range(len(preds)):\n",
    "        if(preds[i]==y[i]):\n",
    "            c+=1\n",
    "    return(c/y.size)"
   ]
  },
  {
   "cell_type": "code",
   "execution_count": 107,
   "id": "0aecf78c-21f1-4b10-a1a1-18962bbf4ca2",
   "metadata": {
    "tags": []
   },
   "outputs": [],
   "source": [
    "def gradient_descent(x,y,alpha,iters):\n",
    "    w1,b1,w2,b2 = init_params()\n",
    "    a = list()\n",
    "    for i in range(iters):\n",
    "        z1,a1,z2,a2 = forward_prop(w1,b1,w2,b2,x)\n",
    "        dw1,db1,dw2,db2 = backward_prop(z1,a1,z2,a2,w1,w2,x,y)\n",
    "        w1,b1,w2,b2 = update_params(w1,b1,w2,b2,dw1,db1,dw2,db2,alpha)\n",
    "        if(i%1==0):\n",
    "            print(\"---------------------------\")\n",
    "            print(\"Iteration:\",i)\n",
    "            pred = get_preds(a2)\n",
    "            acc = get_accuracy(pred,y)\n",
    "            a.append(acc)\n",
    "            print(\"b1:\",b1)\n",
    "            print(\"b2:\",b2)\n",
    "            #print(\"Accuracy:\",get_accuracy(pred,y))\n",
    "            print(\"---------------------------\")\n",
    "    return(a)"
   ]
  },
  {
   "cell_type": "code",
   "execution_count": 108,
   "id": "b4068471-44c0-4f80-8e92-194ac2394f39",
   "metadata": {
    "tags": []
   },
   "outputs": [
    {
     "name": "stdout",
     "output_type": "stream",
     "text": [
      "---------------------------\n",
      "Iteration: 0\n",
      "b1: [[0.15407391]\n",
      " [0.09615491]\n",
      " [0.68244338]\n",
      " [0.65591031]\n",
      " [0.09912938]\n",
      " [0.05364681]\n",
      " [0.54316991]\n",
      " [0.33726682]\n",
      " [0.03849257]\n",
      " [0.79754905]]\n",
      "b2: [[0.16546369]\n",
      " [0.62900844]\n",
      " [0.78526284]]\n",
      "---------------------------\n",
      "---------------------------\n",
      "Iteration: 1\n",
      "b1: [[0.15407391]\n",
      " [0.09615491]\n",
      " [0.68244338]\n",
      " [0.65591031]\n",
      " [0.09912938]\n",
      " [0.05364681]\n",
      " [0.54316991]\n",
      " [0.33726682]\n",
      " [0.03849257]\n",
      " [0.79754905]]\n",
      "b2: [[0.2121394 ]\n",
      " [0.67568415]\n",
      " [0.83193855]]\n",
      "---------------------------\n",
      "---------------------------\n",
      "Iteration: 2\n",
      "b1: [[0.15407391]\n",
      " [0.09615491]\n",
      " [0.68244338]\n",
      " [0.65591031]\n",
      " [0.09912938]\n",
      " [0.05364681]\n",
      " [0.54316991]\n",
      " [0.33726682]\n",
      " [0.03849257]\n",
      " [0.79754905]]\n",
      "b2: [[0.2588151 ]\n",
      " [0.72235985]\n",
      " [0.87861425]]\n",
      "---------------------------\n",
      "---------------------------\n",
      "Iteration: 3\n",
      "b1: [[0.15407391]\n",
      " [0.09615491]\n",
      " [0.68244338]\n",
      " [0.65591031]\n",
      " [0.09912938]\n",
      " [0.05364681]\n",
      " [0.54316991]\n",
      " [0.33726682]\n",
      " [0.03849257]\n",
      " [0.79754905]]\n",
      "b2: [[0.30549081]\n",
      " [0.76903556]\n",
      " [0.92528996]]\n",
      "---------------------------\n",
      "---------------------------\n",
      "Iteration: 4\n",
      "b1: [[0.15407391]\n",
      " [0.09615491]\n",
      " [0.68244338]\n",
      " [0.65591031]\n",
      " [0.09912938]\n",
      " [0.05364681]\n",
      " [0.54316991]\n",
      " [0.33726682]\n",
      " [0.03849257]\n",
      " [0.79754905]]\n",
      "b2: [[0.35216652]\n",
      " [0.81571127]\n",
      " [0.97196567]]\n",
      "---------------------------\n",
      "---------------------------\n",
      "Iteration: 5\n",
      "b1: [[0.15407391]\n",
      " [0.09615491]\n",
      " [0.68244338]\n",
      " [0.65591031]\n",
      " [0.09912938]\n",
      " [0.05364681]\n",
      " [0.54316991]\n",
      " [0.33726682]\n",
      " [0.03849257]\n",
      " [0.79754905]]\n",
      "b2: [[0.39884222]\n",
      " [0.86238697]\n",
      " [1.01864138]]\n",
      "---------------------------\n",
      "---------------------------\n",
      "Iteration: 6\n",
      "b1: [[0.15407391]\n",
      " [0.09615491]\n",
      " [0.68244338]\n",
      " [0.65591031]\n",
      " [0.09912938]\n",
      " [0.05364681]\n",
      " [0.54316991]\n",
      " [0.33726682]\n",
      " [0.03849257]\n",
      " [0.79754905]]\n",
      "b2: [[0.44551793]\n",
      " [0.90906268]\n",
      " [1.06531708]]\n",
      "---------------------------\n",
      "---------------------------\n",
      "Iteration: 7\n",
      "b1: [[0.15407391]\n",
      " [0.09615491]\n",
      " [0.68244338]\n",
      " [0.65591031]\n",
      " [0.09912938]\n",
      " [0.05364681]\n",
      " [0.54316991]\n",
      " [0.33726682]\n",
      " [0.03849257]\n",
      " [0.79754905]]\n",
      "b2: [[0.49219364]\n",
      " [0.95573839]\n",
      " [1.11199279]]\n",
      "---------------------------\n",
      "---------------------------\n",
      "Iteration: 8\n",
      "b1: [[0.15407391]\n",
      " [0.09615491]\n",
      " [0.68244338]\n",
      " [0.65591031]\n",
      " [0.09912938]\n",
      " [0.05364681]\n",
      " [0.54316991]\n",
      " [0.33726682]\n",
      " [0.03849257]\n",
      " [0.79754905]]\n",
      "b2: [[0.53886934]\n",
      " [1.0024141 ]\n",
      " [1.1586685 ]]\n",
      "---------------------------\n",
      "---------------------------\n",
      "Iteration: 9\n",
      "b1: [[0.15407391]\n",
      " [0.09615491]\n",
      " [0.68244338]\n",
      " [0.65591031]\n",
      " [0.09912938]\n",
      " [0.05364681]\n",
      " [0.54316991]\n",
      " [0.33726682]\n",
      " [0.03849257]\n",
      " [0.79754905]]\n",
      "b2: [[0.58554505]\n",
      " [1.0490898 ]\n",
      " [1.2053442 ]]\n",
      "---------------------------\n"
     ]
    },
    {
     "ename": "ValueError",
     "evalue": "too many values to unpack (expected 5)",
     "output_type": "error",
     "traceback": [
      "\u001b[1;31m---------------------------------------------------------------------------\u001b[0m",
      "\u001b[1;31mValueError\u001b[0m                                Traceback (most recent call last)",
      "Cell \u001b[1;32mIn[108], line 1\u001b[0m\n\u001b[1;32m----> 1\u001b[0m w1,b1,w2,b2,a \u001b[38;5;241m=\u001b[39m gradient_descent(x_train[:,:\u001b[38;5;241m2500\u001b[39m],y_train[:\u001b[38;5;241m2500\u001b[39m,:],\u001b[38;5;241m0.95\u001b[39m,\u001b[38;5;241m10\u001b[39m)\n",
      "\u001b[1;31mValueError\u001b[0m: too many values to unpack (expected 5)"
     ]
    }
   ],
   "source": [
    "w1,b1,w2,b2,a = gradient_descent(x_train[:,:2500],y_train[:2500,:],0.95,10)"
   ]
  },
  {
   "cell_type": "code",
   "execution_count": 103,
   "id": "f7089349-2464-4fcd-a0bd-03e80197be3d",
   "metadata": {
    "tags": []
   },
   "outputs": [
    {
     "data": {
      "text/plain": [
       "[<matplotlib.lines.Line2D at 0x1d935429450>]"
      ]
     },
     "execution_count": 103,
     "metadata": {},
     "output_type": "execute_result"
    },
    {
     "data": {
      "image/png": "[encoded data removed]",
      "text/plain": [
       "<Figure size 640x480 with 1 Axes>"
      ]
     },
     "metadata": {},
     "output_type": "display_data"
    }
   ],
   "source": [
    "plt.plot(a)"
   ]
  },
  {
   "cell_type": "markdown",
   "id": "d2ae960e-cf6c-43a3-bcea-8fde4609dc5c",
   "metadata": {
    "jp-MarkdownHeadingCollapsed": true,
    "tags": []
   },
   "source": [
    "#### Neural Network 2"
   ]
  },
  {
   "cell_type": "code",
   "execution_count": 55,
   "id": "1c4c8681-e6cb-4774-9746-b39a92c7abb7",
   "metadata": {
    "tags": []
   },
   "outputs": [],
   "source": [
    "x = data[['race', 'gender', 'age', 'admission_type_id', \n",
    "                       'discharge_disposition_id', 'admission_source_id',\n",
    "                       'time_in_hospital', 'num_lab_procedures', 'num_procedures',\n",
    "                       'num_medications', 'number_outpatient', 'number_emergency',\n",
    "                       'number_inpatient', 'diag_1', 'diag_2', 'diag_3', 'number_diagnoses',\n",
    "                       'max_glu_serum', 'A1Cresult', 'metformin', 'repaglinide', 'nateglinide',\n",
    "                       'chlorpropamide', 'glimepiride', 'acetohexamide', 'glipizide',\n",
    "                       'glyburide', 'tolbutamide', 'pioglitazone', 'rosiglitazone', 'acarbose',\n",
    "                       'miglitol', 'troglitazone', 'tolazamide', 'examide', 'citoglipton',\n",
    "                       'insulin', 'glyburide-metformin', 'glipizide-metformin',\n",
    "                       'glimepiride-pioglitazone', 'metformin-rosiglitazone',\n",
    "                       'metformin-pioglitazone', 'change', 'diabetesMed']]"
   ]
  },
  {
   "cell_type": "code",
   "execution_count": 56,
   "id": "d25d51e9-4cf1-4fb7-aa27-51ff52085eaf",
   "metadata": {
    "tags": []
   },
   "outputs": [],
   "source": [
    "y = data[['readmitted']]"
   ]
  },
  {
   "cell_type": "code",
   "execution_count": 57,
   "id": "8eb1159e-b5f9-4793-be71-223002b4b657",
   "metadata": {
    "tags": []
   },
   "outputs": [],
   "source": [
    "x_dev = x.head(250)\n",
    "y_dev = y.head(250)"
   ]
  },
  {
   "cell_type": "code",
   "execution_count": 58,
   "id": "b7c71dd4-aeef-4aca-a370-b51a4c4e2ea1",
   "metadata": {
    "tags": []
   },
   "outputs": [],
   "source": [
    "x_dev = np.array(x_dev)\n",
    "y_dev = np.array(y_dev)"
   ]
  },
  {
   "cell_type": "code",
   "execution_count": 59,
   "id": "1a1bdfc4-d96f-458b-860c-cfc4111f70e3",
   "metadata": {
    "tags": []
   },
   "outputs": [],
   "source": [
    "one_hot = np.zeros((250,3))\n",
    "for i in range(250):\n",
    "    one_hot[i,y_dev[i]] = 1"
   ]
  },
  {
   "cell_type": "code",
   "execution_count": 60,
   "id": "da029584-4171-4b51-9bd0-45c1b0abab0f",
   "metadata": {
    "tags": []
   },
   "outputs": [],
   "source": [
    "def sigmoid(x):\n",
    "    return 1/(1+np.exp(-x))\n",
    "\n",
    "def sigmoid_der(x):\n",
    "    return sigmoid(x) *(1-sigmoid (x))\n",
    "\n",
    "def softmax(A):\n",
    "    expA = np.exp(A)\n",
    "    return expA / expA.sum(axis=1, keepdims=True)"
   ]
  },
  {
   "cell_type": "code",
   "execution_count": 61,
   "id": "81b4cc8f-2f35-407b-b119-0a8c94f6dbe1",
   "metadata": {
    "tags": []
   },
   "outputs": [],
   "source": [
    "inst = x_dev.shape[0]\n",
    "attr = x_dev.shape[1]\n",
    "hn = 4\n",
    "opl = 3"
   ]
  },
  {
   "cell_type": "code",
   "execution_count": 62,
   "id": "fb092adf-9960-48f2-b873-92cef72ebc36",
   "metadata": {
    "tags": []
   },
   "outputs": [],
   "source": [
    "wh = np.random.rand(attr,hn)\n",
    "bh = np.random.rand(hn)"
   ]
  },
  {
   "cell_type": "code",
   "execution_count": 63,
   "id": "6aae9a4a-b595-47e0-96fe-1b24cc498c0b",
   "metadata": {
    "tags": []
   },
   "outputs": [],
   "source": [
    "wo = np.random.rand(hn,opl)\n",
    "bo = np.random.rand(opl)"
   ]
  },
  {
   "cell_type": "code",
   "execution_count": 64,
   "id": "ca2861bd-d976-417e-8ba4-2fe9d679782e",
   "metadata": {
    "tags": []
   },
   "outputs": [],
   "source": [
    "lr = 0.7"
   ]
  },
  {
   "cell_type": "code",
   "execution_count": 65,
   "id": "f1c58708-7c7b-4be6-a54f-8ec914951ea0",
   "metadata": {
    "tags": []
   },
   "outputs": [],
   "source": [
    "error_cost = []"
   ]
  },
  {
   "cell_type": "code",
   "execution_count": 67,
   "id": "2d2e1328-3d34-48ce-ac21-17a9330ec065",
   "metadata": {
    "tags": []
   },
   "outputs": [
    {
     "name": "stdout",
     "output_type": "stream",
     "text": [
      "-------------------------\n",
      "Epoch - 0\n",
      "Loss function value:  37712.75996280201\n",
      "-------------------------\n",
      "Epoch - 1\n",
      "Loss function value:  86356.59388084366\n",
      "-------------------------\n",
      "Epoch - 2\n",
      "Loss function value:  40351.75996280201\n",
      "-------------------------\n",
      "Epoch - 3\n",
      "Loss function value:  69745.59388084366\n",
      "-------------------------\n",
      "Epoch - 4\n",
      "Loss function value:  42990.75996280201\n",
      "-------------------------\n",
      "Epoch - 5\n",
      "Loss function value:  56974.51121893649\n",
      "-------------------------\n",
      "Epoch - 6\n",
      "Loss function value:  nan\n",
      "-------------------------\n",
      "Epoch - 7\n",
      "Loss function value:  nan\n",
      "-------------------------\n",
      "Epoch - 8\n",
      "Loss function value:  nan\n",
      "-------------------------\n",
      "Epoch - 9\n",
      "Loss function value:  nan\n"
     ]
    }
   ],
   "source": [
    "for epoch in range(10):\n",
    "    zh = np.dot(x_dev, wh) + bh\n",
    "    ah = sigmoid(zh)\n",
    "    \n",
    "    zo = np.dot(ah, wo) + bo\n",
    "    ao = softmax(zo)\n",
    "    \n",
    "    dcost_dzo = ao - one_hot\n",
    "    dzo_dwo = ah\n",
    "\n",
    "    dcost_wo = np.dot(dzo_dwo.T, dcost_dzo)\n",
    "\n",
    "    dcost_bo = dcost_dzo\n",
    "    \n",
    "    dzo_dah = wo\n",
    "    dcost_dah = np.dot(dcost_dzo , dzo_dah.T)\n",
    "    dah_dzh = sigmoid_der(zh)\n",
    "    dzh_dwh = x_dev\n",
    "    dcost_wh = np.dot(dzh_dwh.T, dah_dzh * dcost_dah)\n",
    "\n",
    "    dcost_bh = dcost_dah * dah_dzh\n",
    "    wh -= lr * dcost_wh\n",
    "    bh -= lr * dcost_bh.sum(axis=0)\n",
    "\n",
    "    wo -= lr * dcost_wo\n",
    "    bo -= lr * dcost_bo.sum(axis=0)\n",
    "    \n",
    "    if epoch % 1 == 0:\n",
    "        print(\"-------------------------\")\n",
    "        print(f\"Epoch - {epoch}\")\n",
    "        loss = np.sum(-one_hot * np.log(ao))\n",
    "        print('Loss function value: ', loss)\n",
    "        error_cost.append(loss)"
   ]
  },
  {
   "cell_type": "markdown",
   "id": "08baafe9-2055-4f75-8931-fc4ddecaf64c",
   "metadata": {},
   "source": [
    "#### Neural Network - LSTM"
   ]
  },
  {
   "cell_type": "code",
   "execution_count": 70,
   "id": "54e5c74b-a0f1-465d-a8e8-8f290c925be9",
   "metadata": {
    "tags": []
   },
   "outputs": [],
   "source": [
    "import numpy as np\n",
    "import pandas as pd\n",
    "import tensorflow as tf"
   ]
  },
  {
   "cell_type": "code",
   "execution_count": 180,
   "id": "61f683e5-3bce-481e-848f-18a5d09ee90d",
   "metadata": {
    "tags": []
   },
   "outputs": [],
   "source": [
    "x = data[['race', 'gender', 'age', 'admission_type_id', \n",
    "                       'discharge_disposition_id', 'admission_source_id',\n",
    "                       'time_in_hospital', 'num_lab_procedures', 'num_procedures',\n",
    "                       'num_medications', 'number_outpatient', 'number_emergency',\n",
    "                       'number_inpatient', 'diag_1', 'diag_2', 'diag_3', 'number_diagnoses',\n",
    "                       'max_glu_serum', 'A1Cresult', 'metformin', 'repaglinide', 'nateglinide',\n",
    "                       'chlorpropamide', 'glimepiride', 'acetohexamide', 'glipizide',\n",
    "                       'glyburide', 'tolbutamide', 'pioglitazone', 'rosiglitazone', 'acarbose',\n",
    "                       'miglitol', 'troglitazone', 'tolazamide', 'examide', 'citoglipton',\n",
    "                       'insulin', 'glyburide-metformin', 'glipizide-metformin',\n",
    "                       'glimepiride-pioglitazone', 'metformin-rosiglitazone',\n",
    "                       'metformin-pioglitazone', 'change', 'diabetesMed']]\n",
    "y = data[['readmitted']]"
   ]
  },
  {
   "cell_type": "code",
   "execution_count": 213,
   "id": "68df7653-3e90-4f4d-a94e-c63100828e52",
   "metadata": {
    "tags": []
   },
   "outputs": [],
   "source": [
    "x_train = x.head(int(0.75*x.shape[0]))\n",
    "y_train = y.head(int(0.75*x.shape[0]))\n",
    "\n",
    "x_test = x.tail(int(0.25*x.shape[0]))\n",
    "y_test = y.tail(int(0.25*x.shape[0]))"
   ]
  },
  {
   "cell_type": "code",
   "execution_count": 214,
   "id": "8787fe6b-a8a9-4324-bd59-d17e625ba9a4",
   "metadata": {
    "tags": []
   },
   "outputs": [
    {
     "data": {
      "text/plain": [
       "(76324, 44)"
      ]
     },
     "execution_count": 214,
     "metadata": {},
     "output_type": "execute_result"
    }
   ],
   "source": [
    "x_train.shape"
   ]
  },
  {
   "cell_type": "code",
   "execution_count": 215,
   "id": "c2126b80-6a40-4e68-bc95-738016b2e70c",
   "metadata": {
    "tags": []
   },
   "outputs": [],
   "source": [
    "import tensorflow as tf\n",
    "from tensorflow import keras\n",
    "from tensorflow.keras import layers"
   ]
  },
  {
   "cell_type": "code",
   "execution_count": 225,
   "id": "48bc6323-1089-44d0-8f02-e3c95acfa38a",
   "metadata": {
    "tags": []
   },
   "outputs": [],
   "source": [
    "model = keras.Sequential([\n",
    "    layers.Dense(64,activation='tanh',input_dim=44),\n",
    "    layers.Dense(32,activation='tanh'),\n",
    "    layers.Dense(1,activation='sigmoid')])"
   ]
  },
  {
   "cell_type": "code",
   "execution_count": 226,
   "id": "427ea3ee-fe5a-481e-a4a2-0c919edc6177",
   "metadata": {
    "tags": []
   },
   "outputs": [],
   "source": [
    "model.compile(optimizer='sgd',loss='categorical_crossentropy',metrics=['accuracy'])"
   ]
  },
  {
   "cell_type": "code",
   "execution_count": 227,
   "id": "c15f4b03-0722-4aeb-b4a3-bae1d403fce8",
   "metadata": {
    "tags": []
   },
   "outputs": [
    {
     "name": "stdout",
     "output_type": "stream",
     "text": [
      "Epoch 1/10\n",
      "2386/2386 [==============================] - 9s 3ms/step - loss: 0.0000e+00 - accuracy: 0.3627\n",
      "Epoch 2/10\n",
      "2386/2386 [==============================] - 8s 3ms/step - loss: 0.0000e+00 - accuracy: 0.3631\n",
      "Epoch 3/10\n",
      "2386/2386 [==============================] - 8s 3ms/step - loss: 0.0000e+00 - accuracy: 0.3631\n",
      "Epoch 4/10\n",
      "2386/2386 [==============================] - 8s 3ms/step - loss: 0.0000e+00 - accuracy: 0.3631\n",
      "Epoch 5/10\n",
      "2386/2386 [==============================] - 8s 3ms/step - loss: 0.0000e+00 - accuracy: 0.3631\n",
      "Epoch 6/10\n",
      "2386/2386 [==============================] - 8s 3ms/step - loss: 0.0000e+00 - accuracy: 0.3631\n",
      "Epoch 7/10\n",
      "2386/2386 [==============================] - 8s 3ms/step - loss: 0.0000e+00 - accuracy: 0.3631\n",
      "Epoch 8/10\n",
      "2386/2386 [==============================] - 8s 3ms/step - loss: 0.0000e+00 - accuracy: 0.3631\n",
      "Epoch 9/10\n",
      "2386/2386 [==============================] - 8s 3ms/step - loss: 0.0000e+00 - accuracy: 0.3631\n",
      "Epoch 10/10\n",
      "2386/2386 [==============================] - 8s 3ms/step - loss: 0.0000e+00 - accuracy: 0.3631\n"
     ]
    },
    {
     "data": {
      "text/plain": [
       "<keras.src.callbacks.History at 0x1d674915c90>"
      ]
     },
     "execution_count": 227,
     "metadata": {},
     "output_type": "execute_result"
    }
   ],
   "source": [
    "model.fit(x_train,y_train,epochs=10)"
   ]
  },
  {
   "cell_type": "code",
   "execution_count": null,
   "id": "b0b886f0-0702-4fd9-99cd-6c700666f57e",
   "metadata": {},
   "outputs": [],
   "source": []
  }
 ],
 "metadata": {
  "kernelspec": {
   "display_name": "Python 3 (ipykernel)",
   "language": "python",
   "name": "python3"
  },
  "language_info": {
   "codemirror_mode": {
    "name": "ipython",
    "version": 3
   },
   "file_extension": ".py",
   "mimetype": "text/x-python",
   "name": "python",
   "nbconvert_exporter": "python",
   "pygments_lexer": "ipython3",
   "version": "3.11.5"
  }
 },
 "nbformat": 4,
 "nbformat_minor": 5
}
